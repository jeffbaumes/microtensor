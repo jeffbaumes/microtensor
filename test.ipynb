{
 "cells": [
  {
   "cell_type": "code",
   "execution_count": 31,
   "metadata": {},
   "outputs": [
    {
     "name": "stdout",
     "output_type": "stream",
     "text": [
      "tensor(-0.3947991729, grad_fn=<SumBackward0>)\n",
      "tensor([[ 0.0110761188,  0.0737276152,  0.0182866342],\n",
      "        [ 0.0410607755, -0.0786427706,  0.0167493112],\n",
      "        [-0.0144230416, -0.0688124299, -0.0152583374],\n",
      "        [-0.0377138406,  0.0737276152, -0.0197776090]])\n"
     ]
    }
   ],
   "source": [
    "import torch\n",
    "import torch.nn as nn\n",
    "\n",
    "# set number of significant digits to print out\n",
    "torch.set_printoptions(precision=10)\n",
    "x = torch.tensor([[1.0, 2.0, 3.0], [4.0, -5.0, 6.0], [20.0, 10.0, -30.0], [-3.0, 2.0, 31.0]], dtype=torch.float32)\n",
    "x.requires_grad = True\n",
    "bn = nn.BatchNorm1d(3, dtype=torch.float32)\n",
    "result = bn(x)\n",
    "t = result.tanh()\n",
    "loss = t.sum()\n",
    "print(loss)\n",
    "loss.backward()\n",
    "print(x.grad)"
   ]
  },
  {
   "cell_type": "code",
   "execution_count": 42,
   "metadata": {},
   "outputs": [
    {
     "name": "stdout",
     "output_type": "stream",
     "text": [
      "tensor([[-1.2247426510e+00, -1.2247425318e+00],\n",
      "        [-5.9604644775e-08,  0.0000000000e+00],\n",
      "        [ 1.2247424126e+00,  1.2247425318e+00]],\n",
      "       grad_fn=<NativeBatchNormBackward0>)\n",
      "tensor([0., 0.])\n",
      "tensor([3., 3.])\n"
     ]
    }
   ],
   "source": [
    "import torch\n",
    "import torch.nn as nn\n",
    "torch.set_printoptions(precision=10)\n",
    "x = torch.tensor([[1.0, 2.0], [3.0, 4.0], [5.0, 6.0]], dtype=torch.float32)\n",
    "x.requires_grad = True\n",
    "bn = nn.BatchNorm1d(2, dtype=torch.float32)\n",
    "bn.weight.retain_grad()\n",
    "bn.bias.retain_grad()\n",
    "result = bn(x)\n",
    "print(result)\n",
    "loss = result.sum()\n",
    "loss.backward()\n",
    "print(bn.weight.grad)\n",
    "print(bn.bias.grad)"
   ]
  },
  {
   "cell_type": "code",
   "execution_count": null,
   "metadata": {},
   "outputs": [],
   "source": []
  }
 ],
 "metadata": {
  "kernelspec": {
   "display_name": "microgradc",
   "language": "python",
   "name": "python3"
  },
  "language_info": {
   "codemirror_mode": {
    "name": "ipython",
    "version": 3
   },
   "file_extension": ".py",
   "mimetype": "text/x-python",
   "name": "python",
   "nbconvert_exporter": "python",
   "pygments_lexer": "ipython3",
   "version": "3.10.12"
  }
 },
 "nbformat": 4,
 "nbformat_minor": 2
}
